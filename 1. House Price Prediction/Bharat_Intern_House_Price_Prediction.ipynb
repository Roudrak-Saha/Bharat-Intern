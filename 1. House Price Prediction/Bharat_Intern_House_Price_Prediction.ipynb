{
  "nbformat": 4,
  "nbformat_minor": 0,
  "metadata": {
    "colab": {
      "provenance": []
    },
    "kernelspec": {
      "name": "python3",
      "display_name": "Python 3"
    },
    "language_info": {
      "name": "python"
    }
  },
  "cells": [
    {
      "cell_type": "code",
      "execution_count": 1,
      "metadata": {
        "id": "Zg1VjZT2Vp_e"
      },
      "outputs": [],
      "source": [
        "#importing required libraries\n",
        "from sklearn.datasets import fetch_california_housing\n",
        "from sklearn.model_selection import train_test_split\n",
        "from sklearn.preprocessing import StandardScaler\n",
        "from tensorflow.keras.models import Sequential\n",
        "from tensorflow.keras.layers import Dense\n",
        "import numpy as np\n",
        "from sklearn.metrics import mean_squared_error"
      ]
    },
    {
      "cell_type": "code",
      "source": [
        "#import dataset\n",
        "housing = fetch_california_housing(as_frame=True)\n",
        "X = housing['data']\n",
        "y = housing['target']"
      ],
      "metadata": {
        "id": "JDEOzaaeWlZL"
      },
      "execution_count": 2,
      "outputs": []
    },
    {
      "cell_type": "code",
      "source": [
        "#spliting and scaling of dataset\n",
        "X_train, X_test, y_train, y_test = train_test_split(X, y, test_size=0.2, random_state=42)\n",
        "scaler = StandardScaler()\n",
        "X_train_scaled = scaler.fit_transform(X_train)\n",
        "X_test_scaled = scaler.transform(X_test)"
      ],
      "metadata": {
        "id": "RURIXD6IWqds"
      },
      "execution_count": 3,
      "outputs": []
    },
    {
      "cell_type": "code",
      "source": [
        "#checking for null values\n",
        "nan_values = np.isnan(y_train).any()\n",
        "num_nan_rows = np.sum(nan_values)\n",
        "\n",
        "print(f\"Number of rows with NaN values: {num_nan_rows}\")"
      ],
      "metadata": {
        "colab": {
          "base_uri": "https://localhost:8080/"
        },
        "id": "N0FMUQPMvqq5",
        "outputId": "7c50cfa5-71f0-455c-acaa-7c7d625f01c6"
      },
      "execution_count": 4,
      "outputs": [
        {
          "output_type": "stream",
          "name": "stdout",
          "text": [
            "Number of rows with NaN values: 0\n"
          ]
        }
      ]
    },
    {
      "cell_type": "code",
      "source": [
        "#creating the model\n",
        "model_tf = Sequential()\n",
        "model_tf.add(Dense(32, activation=\"relu\", input_shape=(X_train_scaled.shape[1],)))\n",
        "model_tf.add(Dense(1))\n",
        "model_tf.compile(loss=\"mean_squared_error\", optimizer=\"adam\")\n",
        "model_tf.fit(X_train_scaled, y_train, epochs=10, batch_size=32)"
      ],
      "metadata": {
        "colab": {
          "base_uri": "https://localhost:8080/"
        },
        "id": "JZ8ULVPGdXr-",
        "outputId": "68755f86-20be-4c97-8024-38364b1e11f5"
      },
      "execution_count": 5,
      "outputs": [
        {
          "output_type": "stream",
          "name": "stdout",
          "text": [
            "Epoch 1/10\n",
            "516/516 [==============================] - 3s 4ms/step - loss: 1.5771\n",
            "Epoch 2/10\n",
            "516/516 [==============================] - 3s 6ms/step - loss: 0.5288\n",
            "Epoch 3/10\n",
            "516/516 [==============================] - 2s 3ms/step - loss: 0.4334\n",
            "Epoch 4/10\n",
            "516/516 [==============================] - 2s 3ms/step - loss: 0.4088\n",
            "Epoch 5/10\n",
            "516/516 [==============================] - 2s 4ms/step - loss: 0.3967\n",
            "Epoch 6/10\n",
            "516/516 [==============================] - 2s 4ms/step - loss: 0.3895\n",
            "Epoch 7/10\n",
            "516/516 [==============================] - 2s 4ms/step - loss: 0.3876\n",
            "Epoch 8/10\n",
            "516/516 [==============================] - 3s 6ms/step - loss: 0.3777\n",
            "Epoch 9/10\n",
            "516/516 [==============================] - 2s 4ms/step - loss: 0.3699\n",
            "Epoch 10/10\n",
            "516/516 [==============================] - 1s 2ms/step - loss: 0.3680\n"
          ]
        },
        {
          "output_type": "execute_result",
          "data": {
            "text/plain": [
              "<keras.src.callbacks.History at 0x7cf8593366b0>"
            ]
          },
          "metadata": {},
          "execution_count": 5
        }
      ]
    },
    {
      "cell_type": "code",
      "source": [
        "# Evaluating model performance\n",
        "y_pred_tf = model_tf.predict(X_test_scaled)\n",
        "mse_tf = mean_squared_error(y_test, y_pred_tf)\n",
        "print(f\"TensorFlow MSE: {mse_tf:.2f}\")\n"
      ],
      "metadata": {
        "colab": {
          "base_uri": "https://localhost:8080/"
        },
        "id": "kF06azqOdeN8",
        "outputId": "b8340843-e902-4c76-a523-c83180fa4743"
      },
      "execution_count": 6,
      "outputs": [
        {
          "output_type": "stream",
          "name": "stdout",
          "text": [
            "129/129 [==============================] - 0s 1ms/step\n",
            "TensorFlow MSE: 0.37\n"
          ]
        }
      ]
    }
  ]
}