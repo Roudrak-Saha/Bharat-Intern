{
  "nbformat": 4,
  "nbformat_minor": 0,
  "metadata": {
    "colab": {
      "provenance": []
    },
    "kernelspec": {
      "name": "python3",
      "display_name": "Python 3"
    },
    "language_info": {
      "name": "python"
    }
  },
  "cells": [
    {
      "cell_type": "code",
      "execution_count": 10,
      "metadata": {
        "id": "TFMuROfEI7HO"
      },
      "outputs": [],
      "source": [
        "from sklearn.datasets import load_iris\n",
        "from sklearn.model_selection import train_test_split\n",
        "from sklearn.metrics import accuracy_score\n",
        "import tensorflow as tf\n",
        "from tensorflow.keras.models import Sequential\n",
        "from tensorflow.keras.layers import Dense\n",
        "from sklearn.preprocessing import StandardScaler\n",
        "from tensorflow.keras.optimizers import Adam\n",
        "from tensorflow.keras.losses import CategoricalCrossentropy\n",
        "from tensorflow.keras import regularizers\n",
        "from sklearn.metrics import accuracy_score\n",
        "import numpy as np"
      ]
    },
    {
      "cell_type": "code",
      "source": [
        "# Load the Iris dataset\n",
        "iris = load_iris()\n",
        "# Split data into features and target\n",
        "X = iris.data\n",
        "y = iris.target"
      ],
      "metadata": {
        "id": "REQTVfK_JP35"
      },
      "execution_count": 11,
      "outputs": []
    },
    {
      "cell_type": "code",
      "source": [
        "# Feature scaling for better convergence\n",
        "scaler = StandardScaler()\n",
        "X_scaled = scaler.fit_transform(X)\n",
        "\n",
        "# Split data into training and testing sets\n",
        "X_train, X_test, y_train, y_test = train_test_split(X_scaled, y, test_size=0.2, random_state=42)\n"
      ],
      "metadata": {
        "id": "-Yz6eK5nJYFs"
      },
      "execution_count": 12,
      "outputs": []
    },
    {
      "cell_type": "code",
      "source": [
        "y_test2=y_test.copy()"
      ],
      "metadata": {
        "id": "sNrpgK_Pwc3u"
      },
      "execution_count": 13,
      "outputs": []
    },
    {
      "cell_type": "code",
      "source": [
        "# One-hot encode the target labels\n",
        "y_train = tf.keras.utils.to_categorical(y_train, num_classes=3)\n",
        "y_test = tf.keras.utils.to_categorical(y_test, num_classes=3)"
      ],
      "metadata": {
        "id": "H2DtQxspJbSC"
      },
      "execution_count": 14,
      "outputs": []
    },
    {
      "cell_type": "code",
      "source": [
        "# Create the model\n",
        "model = Sequential()\n",
        "model.add(Dense(10, activation='relu', input_shape=(4,)))  # Hidden layer with 10 neuron\n",
        "model.add(Dense(3, activation='softmax'))  # Output layer with 3 neurons for 3 classes\n",
        "# Compile the model\n",
        "model.compile(optimizer='adam',\n",
        "              loss='sparse_categorical_crossentropy',  # Use sparse_categorical_crossentropy for integer labels\n",
        "              metrics=['accuracy'])\n",
        "\n",
        "# Train the model\n",
        "model.fit(X, y, epochs=10 , batch_size=32)  # Replace X and y with your actual data\n"
      ],
      "metadata": {
        "id": "gRctjNPuVKLa",
        "colab": {
          "base_uri": "https://localhost:8080/"
        },
        "outputId": "38cb6639-97b7-4820-cd62-7aa997cd1624"
      },
      "execution_count": 15,
      "outputs": [
        {
          "output_type": "stream",
          "name": "stdout",
          "text": [
            "Epoch 1/10\n",
            "5/5 [==============================] - 1s 4ms/step - loss: 1.2763 - accuracy: 0.3267\n",
            "Epoch 2/10\n",
            "5/5 [==============================] - 0s 3ms/step - loss: 1.2551 - accuracy: 0.3267\n",
            "Epoch 3/10\n",
            "5/5 [==============================] - 0s 3ms/step - loss: 1.2385 - accuracy: 0.3267\n",
            "Epoch 4/10\n",
            "5/5 [==============================] - 0s 3ms/step - loss: 1.2254 - accuracy: 0.2933\n",
            "Epoch 5/10\n",
            "5/5 [==============================] - 0s 3ms/step - loss: 1.2124 - accuracy: 0.1933\n",
            "Epoch 6/10\n",
            "5/5 [==============================] - 0s 3ms/step - loss: 1.2014 - accuracy: 0.0933\n",
            "Epoch 7/10\n",
            "5/5 [==============================] - 0s 3ms/step - loss: 1.1932 - accuracy: 0.0467\n",
            "Epoch 8/10\n",
            "5/5 [==============================] - 0s 3ms/step - loss: 1.1855 - accuracy: 0.0133\n",
            "Epoch 9/10\n",
            "5/5 [==============================] - 0s 3ms/step - loss: 1.1779 - accuracy: 0.0467\n",
            "Epoch 10/10\n",
            "5/5 [==============================] - 0s 4ms/step - loss: 1.1716 - accuracy: 0.0867\n"
          ]
        },
        {
          "output_type": "execute_result",
          "data": {
            "text/plain": [
              "<keras.src.callbacks.History at 0x78a4cda21810>"
            ]
          },
          "metadata": {},
          "execution_count": 15
        }
      ]
    },
    {
      "cell_type": "code",
      "source": [
        "y_pred = model.predict(X_test)"
      ],
      "metadata": {
        "colab": {
          "base_uri": "https://localhost:8080/"
        },
        "id": "PI7X3HyJMIIz",
        "outputId": "9b07cb07-9d39-437d-9fc8-4e02cc34f7e8"
      },
      "execution_count": 16,
      "outputs": [
        {
          "output_type": "stream",
          "name": "stdout",
          "text": [
            "1/1 [==============================] - 0s 67ms/step\n"
          ]
        }
      ]
    },
    {
      "cell_type": "code",
      "source": [
        "y_pred_labels = np.argmin(y_pred, axis=1)"
      ],
      "metadata": {
        "id": "dNR8lemUQN1X"
      },
      "execution_count": 17,
      "outputs": []
    },
    {
      "cell_type": "code",
      "source": [
        "# Calculate accuracy\n",
        "accuracy = accuracy_score(y_test2, y_pred_labels)\n",
        "\n",
        "print(f\"Accuracy: {accuracy:.4f}\")\n"
      ],
      "metadata": {
        "colab": {
          "base_uri": "https://localhost:8080/"
        },
        "id": "HAhn8W9fvrNn",
        "outputId": "6c5ee1bf-9a4d-4b1f-ffcf-16760a037ebd"
      },
      "execution_count": 18,
      "outputs": [
        {
          "output_type": "stream",
          "name": "stdout",
          "text": [
            "Accuracy: 0.4667\n"
          ]
        }
      ]
    },
    {
      "cell_type": "code",
      "source": [],
      "metadata": {
        "id": "204jA_4ByX7v"
      },
      "execution_count": 18,
      "outputs": []
    }
  ]
}